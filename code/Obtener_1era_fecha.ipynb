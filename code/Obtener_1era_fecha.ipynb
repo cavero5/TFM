{
 "cells": [
  {
   "cell_type": "markdown",
   "id": "9aa849eb-e120-4c11-afc8-921189bd9069",
   "metadata": {},
   "source": [
    "# Obtener el primera fecha por canal y cluster"
   ]
  },
  {
   "cell_type": "markdown",
   "id": "158afbac-d61b-49ad-a7d5-aa633a9c74e2",
   "metadata": {},
   "source": [
    "## Carga de librerías necesarias"
   ]
  },
  {
   "cell_type": "code",
   "execution_count": 1,
   "id": "d190b23a-c1ec-4fd1-bf55-7d457c92aa19",
   "metadata": {},
   "outputs": [],
   "source": [
    "from pymongo import MongoClient\n",
    "from dotenv import load_dotenv\n",
    "from ast import literal_eval\n",
    "from tqdm.auto import tqdm\n",
    "from motor.motor_asyncio import AsyncIOMotorClient\n",
    "from tqdm.asyncio import tqdm_asyncio  # barra de progreso asíncrona\n",
    "\n",
    "import os\n",
    "import asyncio\n",
    "import pandas as pd"
   ]
  },
  {
   "cell_type": "markdown",
   "id": "5898463e-e2e8-4eff-b447-a8076d167d5e",
   "metadata": {},
   "source": [
    "## Conexión BD"
   ]
  },
  {
   "cell_type": "code",
   "execution_count": 2,
   "id": "08229412-aef0-4114-9d95-00e0911bd01c",
   "metadata": {},
   "outputs": [
    {
     "name": "stdout",
     "output_type": "stream",
     "text": [
      "Conexión exitosa a MongoDB\n"
     ]
    }
   ],
   "source": [
    "# Cargar las variables desde el archivo .env.mongo\n",
    "load_dotenv(dotenv_path=\"../.env.mongo\")\n",
    "\n",
    "# Leer las variables de entorno\n",
    "user = os.getenv(\"MONGO_USER\")\n",
    "password = os.getenv(\"MONGO_PASSWORD\")\n",
    "host = os.getenv(\"MONGO_HOST\")\n",
    "port = os.getenv(\"MONGO_PORT\")\n",
    "\n",
    "# Cliente de conexión a MongoDB\n",
    "mongo_url = f\"mongodb://{user}:{password}@{host}:{port}/?authSource=admin\"\n",
    "client = AsyncIOMotorClient(mongo_url)\n",
    "\n",
    "# Verificar conexión\n",
    "try:\n",
    "    client.admin.command(\"ping\")\n",
    "    print(\"Conexión exitosa a MongoDB\")\n",
    "\n",
    "except Exception as e:\n",
    "    print(\"Error de conexión:\", e)"
   ]
  },
  {
   "cell_type": "code",
   "execution_count": 3,
   "id": "b5fb9381-122a-4af8-99e9-0a435c72dfb8",
   "metadata": {},
   "outputs": [],
   "source": [
    "db = client[\"tg_channels_cositas\"]"
   ]
  },
  {
   "cell_type": "markdown",
   "id": "9341d3e6-3331-4613-88fb-648145a31468",
   "metadata": {},
   "source": [
    "## Carga de datos de macro-tópicos"
   ]
  },
  {
   "cell_type": "code",
   "execution_count": 31,
   "id": "c1ed5a67-8758-4fba-8a4f-565d04d99554",
   "metadata": {},
   "outputs": [
    {
     "data": {
      "text/html": [
       "<div>\n",
       "<style scoped>\n",
       "    .dataframe tbody tr th:only-of-type {\n",
       "        vertical-align: middle;\n",
       "    }\n",
       "\n",
       "    .dataframe tbody tr th {\n",
       "        vertical-align: top;\n",
       "    }\n",
       "\n",
       "    .dataframe thead th {\n",
       "        text-align: right;\n",
       "    }\n",
       "</style>\n",
       "<table border=\"1\" class=\"dataframe\">\n",
       "  <thead>\n",
       "    <tr style=\"text-align: right;\">\n",
       "      <th></th>\n",
       "      <th>tid</th>\n",
       "      <th>n_messages</th>\n",
       "      <th>description</th>\n",
       "      <th>keywords</th>\n",
       "      <th>representative_docs</th>\n",
       "      <th>theme</th>\n",
       "      <th>rep_docs_norm</th>\n",
       "      <th>representative_docs_str</th>\n",
       "      <th>macrot_id</th>\n",
       "      <th>cluster</th>\n",
       "      <th>cluster_words</th>\n",
       "      <th>cluster_words_list</th>\n",
       "    </tr>\n",
       "  </thead>\n",
       "  <tbody>\n",
       "    <tr>\n",
       "      <th>0</th>\n",
       "      <td>0</td>\n",
       "      <td>111</td>\n",
       "      <td>0_vacunamos_novavax_fauci_reacciones</td>\n",
       "      <td>['vacunamos', 'novavax', 'fauci', 'reacciones'...</td>\n",
       "      <td>['estracto de la agencia europea del medicamen...</td>\n",
       "      <td>Conspiracy theories and misinformation about C...</td>\n",
       "      <td>['estracto de la agencia europea del medicamen...</td>\n",
       "      <td>estracto de la agencia europea del medicamento...</td>\n",
       "      <td>111</td>\n",
       "      <td>0</td>\n",
       "      <td>deaths | incl | desconocido | casos | disorders</td>\n",
       "      <td>['deaths', 'incl', 'desconocido', 'casos', 'di...</td>\n",
       "    </tr>\n",
       "    <tr>\n",
       "      <th>1</th>\n",
       "      <td>1</td>\n",
       "      <td>106</td>\n",
       "      <td>1_encontrado_oficialialistas_mujer_desconectado</td>\n",
       "      <td>['encontrado', 'oficialialistas', 'mujer', 'de...</td>\n",
       "      <td>['los viajes espaciales, la creacion de una pa...</td>\n",
       "      <td>The theme revolves around conspiracy theories ...</td>\n",
       "      <td>['los viajes espaciales la creacion de una pan...</td>\n",
       "      <td>los viajes espaciales la creacion de una pande...</td>\n",
       "      <td>-1</td>\n",
       "      <td>-1</td>\n",
       "      <td>NaN</td>\n",
       "      <td>[]</td>\n",
       "    </tr>\n",
       "    <tr>\n",
       "      <th>2</th>\n",
       "      <td>2</td>\n",
       "      <td>85</td>\n",
       "      <td>2_expreso0demedianoche_directo_anonimo_descarg...</td>\n",
       "      <td>['expreso0demedianoche', 'directo', 'anonimo',...</td>\n",
       "      <td>['el expreso de media noche directo del 24/02 ...</td>\n",
       "      <td>Unauthorized use of a popular podcast's name a...</td>\n",
       "      <td>['el expreso de media noche directo del 24 02 ...</td>\n",
       "      <td>el expreso de media noche directo del 24 02 21...</td>\n",
       "      <td>-1</td>\n",
       "      <td>-1</td>\n",
       "      <td>NaN</td>\n",
       "      <td>[]</td>\n",
       "    </tr>\n",
       "    <tr>\n",
       "      <th>3</th>\n",
       "      <td>3</td>\n",
       "      <td>65</td>\n",
       "      <td>3_despiertos_actuamos_inocencia_hijos</td>\n",
       "      <td>['despiertos', 'actuamos', 'inocencia', 'hijos...</td>\n",
       "      <td>['da mucho asco ver ciertos personajes que van...</td>\n",
       "      <td>Critique of egoism, superficiality, and lack o...</td>\n",
       "      <td>['da mucho asco ver ciertos personajes que van...</td>\n",
       "      <td>da mucho asco ver ciertos personajes que van d...</td>\n",
       "      <td>80</td>\n",
       "      <td>0</td>\n",
       "      <td>doktor | esra | medical | gmc | dr</td>\n",
       "      <td>['doktor', 'esra', 'medical', 'gmc', 'dr']</td>\n",
       "    </tr>\n",
       "    <tr>\n",
       "      <th>4</th>\n",
       "      <td>4</td>\n",
       "      <td>63</td>\n",
       "      <td>4_protestas_republica_belga_cerrados</td>\n",
       "      <td>['protestas', 'republica', 'belga', 'cerrados'...</td>\n",
       "      <td>['la gente se defiende: suiza fuerza un refere...</td>\n",
       "      <td>Public discontent and resistance against gover...</td>\n",
       "      <td>['la gente se defiende suiza fuerza un referen...</td>\n",
       "      <td>la gente se defiende suiza fuerza un referendu...</td>\n",
       "      <td>64</td>\n",
       "      <td>8</td>\n",
       "      <td>francia | france | macron | sam | french</td>\n",
       "      <td>['francia', 'france', 'macron', 'sam', 'french']</td>\n",
       "    </tr>\n",
       "  </tbody>\n",
       "</table>\n",
       "</div>"
      ],
      "text/plain": [
       "   tid  n_messages                                        description  \\\n",
       "0    0         111               0_vacunamos_novavax_fauci_reacciones   \n",
       "1    1         106    1_encontrado_oficialialistas_mujer_desconectado   \n",
       "2    2          85  2_expreso0demedianoche_directo_anonimo_descarg...   \n",
       "3    3          65              3_despiertos_actuamos_inocencia_hijos   \n",
       "4    4          63               4_protestas_republica_belga_cerrados   \n",
       "\n",
       "                                            keywords  \\\n",
       "0  ['vacunamos', 'novavax', 'fauci', 'reacciones'...   \n",
       "1  ['encontrado', 'oficialialistas', 'mujer', 'de...   \n",
       "2  ['expreso0demedianoche', 'directo', 'anonimo',...   \n",
       "3  ['despiertos', 'actuamos', 'inocencia', 'hijos...   \n",
       "4  ['protestas', 'republica', 'belga', 'cerrados'...   \n",
       "\n",
       "                                 representative_docs  \\\n",
       "0  ['estracto de la agencia europea del medicamen...   \n",
       "1  ['los viajes espaciales, la creacion de una pa...   \n",
       "2  ['el expreso de media noche directo del 24/02 ...   \n",
       "3  ['da mucho asco ver ciertos personajes que van...   \n",
       "4  ['la gente se defiende: suiza fuerza un refere...   \n",
       "\n",
       "                                               theme  \\\n",
       "0  Conspiracy theories and misinformation about C...   \n",
       "1  The theme revolves around conspiracy theories ...   \n",
       "2  Unauthorized use of a popular podcast's name a...   \n",
       "3  Critique of egoism, superficiality, and lack o...   \n",
       "4  Public discontent and resistance against gover...   \n",
       "\n",
       "                                       rep_docs_norm  \\\n",
       "0  ['estracto de la agencia europea del medicamen...   \n",
       "1  ['los viajes espaciales la creacion de una pan...   \n",
       "2  ['el expreso de media noche directo del 24 02 ...   \n",
       "3  ['da mucho asco ver ciertos personajes que van...   \n",
       "4  ['la gente se defiende suiza fuerza un referen...   \n",
       "\n",
       "                             representative_docs_str  macrot_id  cluster  \\\n",
       "0  estracto de la agencia europea del medicamento...        111        0   \n",
       "1  los viajes espaciales la creacion de una pande...         -1       -1   \n",
       "2  el expreso de media noche directo del 24 02 21...         -1       -1   \n",
       "3  da mucho asco ver ciertos personajes que van d...         80        0   \n",
       "4  la gente se defiende suiza fuerza un referendu...         64        8   \n",
       "\n",
       "                                     cluster_words  \\\n",
       "0  deaths | incl | desconocido | casos | disorders   \n",
       "1                                              NaN   \n",
       "2                                              NaN   \n",
       "3               doktor | esra | medical | gmc | dr   \n",
       "4         francia | france | macron | sam | french   \n",
       "\n",
       "                                  cluster_words_list  \n",
       "0  ['deaths', 'incl', 'desconocido', 'casos', 'di...  \n",
       "1                                                 []  \n",
       "2                                                 []  \n",
       "3         ['doktor', 'esra', 'medical', 'gmc', 'dr']  \n",
       "4   ['francia', 'france', 'macron', 'sam', 'french']  "
      ]
     },
     "execution_count": 31,
     "metadata": {},
     "output_type": "execute_result"
    }
   ],
   "source": [
    "macrot_df = pd.read_csv(\"../data/macro_topics.csv\")\n",
    "macrot_df.head().iloc[:, 1:]"
   ]
  },
  {
   "cell_type": "code",
   "execution_count": 32,
   "id": "e67b9988-f574-45fa-8de4-c6be77b94b26",
   "metadata": {},
   "outputs": [
    {
     "name": "stdout",
     "output_type": "stream",
     "text": [
      "(21614, 13)\n"
     ]
    }
   ],
   "source": [
    "print(macrot_df.shape)"
   ]
  },
  {
   "cell_type": "code",
   "execution_count": 33,
   "id": "da0f3e1b-44a8-423f-94fc-13f19e50a551",
   "metadata": {},
   "outputs": [
    {
     "name": "stdout",
     "output_type": "stream",
     "text": [
      "(9542, 13)\n"
     ]
    }
   ],
   "source": [
    "macrot_df = macrot_df[macrot_df[\"cluster\"] != -1]\n",
    "print(macrot_df.shape)"
   ]
  },
  {
   "cell_type": "code",
   "execution_count": 8,
   "id": "471011fd-af67-4b26-afb6-c8aaa4c0a294",
   "metadata": {},
   "outputs": [
    {
     "name": "stderr",
     "output_type": "stream",
     "text": [
      "Procesando colecciones: 100%|██████████| 2975/2975 [1:10:23<00:00,  1.42s/it]\n"
     ]
    }
   ],
   "source": [
    "# dict {(_id, cluster): [tid1, tid2, …]}\n",
    "col_tids = (\n",
    "    macrot_df\n",
    "    .groupby(['_id', 'cluster'])['tid']\n",
    "    .unique()\n",
    "    .to_dict()\n",
    ")\n",
    "\n",
    "async def procesar_coleccion(collection_name, cluster_id, tids, batch_size=100):\n",
    "    coll = db[collection_name]\n",
    "    out = []\n",
    "    for i in range(0, len(tids), batch_size):\n",
    "        batch = [int(t) for t in tids[i:i+batch_size]]\n",
    "        pipeline = [\n",
    "            {'$match': {'topic_id': {'$in': batch}}},\n",
    "            {'$group': {\n",
    "                '_id': '$topic_id',\n",
    "                'earliest_date': {'$min': '$date'}\n",
    "            }}\n",
    "        ]\n",
    "        cursor = coll.aggregate(pipeline, allowDiskUse=True)\n",
    "        async for doc in cursor:\n",
    "            out.append({\n",
    "                '_id': collection_name,\n",
    "                'cluster':     cluster_id,\n",
    "                'tid':         doc['_id'],\n",
    "                'earliest_date': pd.to_datetime(doc['earliest_date'])\n",
    "            })\n",
    "    return out\n",
    "\n",
    "async def main():\n",
    "    tasks = [\n",
    "        procesar_coleccion(col_name, cluster, tids)\n",
    "        for (col_name, cluster), tids in col_tids.items()\n",
    "    ]\n",
    "    results = []\n",
    "    for coro in tqdm_asyncio.as_completed(tasks, total=len(tasks),\n",
    "                                          desc=\"Procesando colecciones\"):\n",
    "        results.extend(await coro)\n",
    "    return results\n",
    "\n",
    "# Ejecuta el loop\n",
    "results = await main()"
   ]
  },
  {
   "cell_type": "code",
   "execution_count": 34,
   "id": "cb49cc44-0b02-4e39-a557-907a7131078f",
   "metadata": {},
   "outputs": [],
   "source": [
    "# Unión con el df de macro-tópicos\n",
    "earliest_df = pd.DataFrame(results).drop(columns=[\"tid\"])\n",
    "macrot_df = macrot_df.merge(earliest_df, on=['_id', 'cluster'], how='left')"
   ]
  },
  {
   "cell_type": "code",
   "execution_count": 35,
   "id": "b64ef195-90d6-4ef2-8419-766907c365fd",
   "metadata": {},
   "outputs": [
    {
     "data": {
      "text/plain": [
       "count                                 156576\n",
       "mean     2021-09-16 14:09:16.204226816+00:00\n",
       "min                2015-12-21 16:39:15+00:00\n",
       "25%                2021-02-25 13:51:53+00:00\n",
       "50%                2021-09-24 07:52:24+00:00\n",
       "75%                2022-03-27 14:30:40+00:00\n",
       "max                2024-02-17 21:39:31+00:00\n",
       "Name: earliest_date, dtype: object"
      ]
     },
     "execution_count": 35,
     "metadata": {},
     "output_type": "execute_result"
    }
   ],
   "source": [
    "macrot_df[\"earliest_date\"].describe()"
   ]
  },
  {
   "cell_type": "code",
   "execution_count": 36,
   "id": "30f3f310-9390-4b4c-a5c4-32f01165d859",
   "metadata": {},
   "outputs": [],
   "source": [
    "macrot_df.to_csv(\"../data/macrot_tiempos.csv\", index=False)"
   ]
  },
  {
   "cell_type": "code",
   "execution_count": 37,
   "id": "4eff9c3e-792f-4ae9-9f80-899301fcb264",
   "metadata": {},
   "outputs": [
    {
     "data": {
      "text/html": [
       "<div>\n",
       "<style scoped>\n",
       "    .dataframe tbody tr th:only-of-type {\n",
       "        vertical-align: middle;\n",
       "    }\n",
       "\n",
       "    .dataframe tbody tr th {\n",
       "        vertical-align: top;\n",
       "    }\n",
       "\n",
       "    .dataframe thead th {\n",
       "        text-align: right;\n",
       "    }\n",
       "</style>\n",
       "<table border=\"1\" class=\"dataframe\">\n",
       "  <thead>\n",
       "    <tr style=\"text-align: right;\">\n",
       "      <th></th>\n",
       "      <th>node_name</th>\n",
       "      <th>cascade_id</th>\n",
       "      <th>earliest_date</th>\n",
       "    </tr>\n",
       "  </thead>\n",
       "  <tbody>\n",
       "    <tr>\n",
       "      <th>0</th>\n",
       "      <td>disidentesreunios</td>\n",
       "      <td>0</td>\n",
       "      <td>2020-11-09 16:16:05+00:00</td>\n",
       "    </tr>\n",
       "    <tr>\n",
       "      <th>1</th>\n",
       "      <td>disidentesreunios</td>\n",
       "      <td>0</td>\n",
       "      <td>2020-11-10 19:52:12+00:00</td>\n",
       "    </tr>\n",
       "    <tr>\n",
       "      <th>2</th>\n",
       "      <td>disidentesreunios</td>\n",
       "      <td>0</td>\n",
       "      <td>2020-11-06 13:02:32+00:00</td>\n",
       "    </tr>\n",
       "    <tr>\n",
       "      <th>3</th>\n",
       "      <td>disidentesreunios</td>\n",
       "      <td>0</td>\n",
       "      <td>2020-11-09 09:09:57+00:00</td>\n",
       "    </tr>\n",
       "    <tr>\n",
       "      <th>4</th>\n",
       "      <td>disidentesreunios</td>\n",
       "      <td>0</td>\n",
       "      <td>2020-11-09 16:16:05+00:00</td>\n",
       "    </tr>\n",
       "  </tbody>\n",
       "</table>\n",
       "</div>"
      ],
      "text/plain": [
       "           node_name  cascade_id             earliest_date\n",
       "0  disidentesreunios           0 2020-11-09 16:16:05+00:00\n",
       "1  disidentesreunios           0 2020-11-10 19:52:12+00:00\n",
       "2  disidentesreunios           0 2020-11-06 13:02:32+00:00\n",
       "3  disidentesreunios           0 2020-11-09 09:09:57+00:00\n",
       "4  disidentesreunios           0 2020-11-09 16:16:05+00:00"
      ]
     },
     "execution_count": 37,
     "metadata": {},
     "output_type": "execute_result"
    }
   ],
   "source": [
    "df_netinf = macrot_df[[\"_id\", \"cluster\", \"earliest_date\"]]\n",
    "df_netinf = df_netinf.rename(columns={\n",
    "    'cluster': 'cascade_id',\n",
    "    'rep_docs_dates': 'event_time',\n",
    "    '_id': 'node_name'\n",
    "})\n",
    "df_netinf.head()"
   ]
  },
  {
   "cell_type": "code",
   "execution_count": 38,
   "id": "e683e1e1-89b4-4e4f-ac57-6923db124f85",
   "metadata": {},
   "outputs": [
    {
     "data": {
      "text/html": [
       "<div>\n",
       "<style scoped>\n",
       "    .dataframe tbody tr th:only-of-type {\n",
       "        vertical-align: middle;\n",
       "    }\n",
       "\n",
       "    .dataframe tbody tr th {\n",
       "        vertical-align: top;\n",
       "    }\n",
       "\n",
       "    .dataframe thead th {\n",
       "        text-align: right;\n",
       "    }\n",
       "</style>\n",
       "<table border=\"1\" class=\"dataframe\">\n",
       "  <thead>\n",
       "    <tr style=\"text-align: right;\">\n",
       "      <th></th>\n",
       "      <th>node_name</th>\n",
       "      <th>cascade_id</th>\n",
       "      <th>earliest_date</th>\n",
       "    </tr>\n",
       "  </thead>\n",
       "  <tbody>\n",
       "    <tr>\n",
       "      <th>88345</th>\n",
       "      <td>realDonaldjTrump</td>\n",
       "      <td>0</td>\n",
       "      <td>2017-03-21 13:39:19+00:00</td>\n",
       "    </tr>\n",
       "    <tr>\n",
       "      <th>88352</th>\n",
       "      <td>realDonaldjTrump</td>\n",
       "      <td>0</td>\n",
       "      <td>2017-03-21 13:39:19+00:00</td>\n",
       "    </tr>\n",
       "    <tr>\n",
       "      <th>88346</th>\n",
       "      <td>realDonaldjTrump</td>\n",
       "      <td>0</td>\n",
       "      <td>2017-06-07 18:40:45+00:00</td>\n",
       "    </tr>\n",
       "    <tr>\n",
       "      <th>88353</th>\n",
       "      <td>realDonaldjTrump</td>\n",
       "      <td>0</td>\n",
       "      <td>2017-06-07 18:40:45+00:00</td>\n",
       "    </tr>\n",
       "    <tr>\n",
       "      <th>8520</th>\n",
       "      <td>Planet_Earth</td>\n",
       "      <td>0</td>\n",
       "      <td>2017-12-06 13:00:26+00:00</td>\n",
       "    </tr>\n",
       "  </tbody>\n",
       "</table>\n",
       "</div>"
      ],
      "text/plain": [
       "              node_name  cascade_id             earliest_date\n",
       "88345  realDonaldjTrump           0 2017-03-21 13:39:19+00:00\n",
       "88352  realDonaldjTrump           0 2017-03-21 13:39:19+00:00\n",
       "88346  realDonaldjTrump           0 2017-06-07 18:40:45+00:00\n",
       "88353  realDonaldjTrump           0 2017-06-07 18:40:45+00:00\n",
       "8520       Planet_Earth           0 2017-12-06 13:00:26+00:00"
      ]
     },
     "execution_count": 38,
     "metadata": {},
     "output_type": "execute_result"
    }
   ],
   "source": [
    "# Ordenar el DataFrame por cascada y tiempo de evento\n",
    "df_netinf = df_netinf.sort_values(['cascade_id', 'earliest_date'])\n",
    "df_netinf.head()"
   ]
  },
  {
   "cell_type": "code",
   "execution_count": 39,
   "id": "6815104a-05e0-4ef7-94a4-9b26dbc9182b",
   "metadata": {},
   "outputs": [
    {
     "data": {
      "text/html": [
       "<div>\n",
       "<style scoped>\n",
       "    .dataframe tbody tr th:only-of-type {\n",
       "        vertical-align: middle;\n",
       "    }\n",
       "\n",
       "    .dataframe tbody tr th {\n",
       "        vertical-align: top;\n",
       "    }\n",
       "\n",
       "    .dataframe thead th {\n",
       "        text-align: right;\n",
       "    }\n",
       "</style>\n",
       "<table border=\"1\" class=\"dataframe\">\n",
       "  <thead>\n",
       "    <tr style=\"text-align: right;\">\n",
       "      <th></th>\n",
       "      <th>node_name</th>\n",
       "      <th>cascade_id</th>\n",
       "      <th>earliest_date</th>\n",
       "    </tr>\n",
       "  </thead>\n",
       "  <tbody>\n",
       "    <tr>\n",
       "      <th>0</th>\n",
       "      <td>realDonaldjTrump</td>\n",
       "      <td>0</td>\n",
       "      <td>2017-03-21 13:39:19+00:00</td>\n",
       "    </tr>\n",
       "    <tr>\n",
       "      <th>1</th>\n",
       "      <td>Planet_Earth</td>\n",
       "      <td>0</td>\n",
       "      <td>2017-12-06 13:00:26+00:00</td>\n",
       "    </tr>\n",
       "    <tr>\n",
       "      <th>2</th>\n",
       "      <td>dokuz8haber</td>\n",
       "      <td>0</td>\n",
       "      <td>2018-05-02 10:08:50+00:00</td>\n",
       "    </tr>\n",
       "    <tr>\n",
       "      <th>3</th>\n",
       "      <td>police_frequency</td>\n",
       "      <td>0</td>\n",
       "      <td>2018-05-15 09:13:59+00:00</td>\n",
       "    </tr>\n",
       "    <tr>\n",
       "      <th>4</th>\n",
       "      <td>nationalistesfr</td>\n",
       "      <td>0</td>\n",
       "      <td>2018-05-30 06:46:46+00:00</td>\n",
       "    </tr>\n",
       "  </tbody>\n",
       "</table>\n",
       "</div>"
      ],
      "text/plain": [
       "          node_name  cascade_id             earliest_date\n",
       "0  realDonaldjTrump           0 2017-03-21 13:39:19+00:00\n",
       "1      Planet_Earth           0 2017-12-06 13:00:26+00:00\n",
       "2       dokuz8haber           0 2018-05-02 10:08:50+00:00\n",
       "3  police_frequency           0 2018-05-15 09:13:59+00:00\n",
       "4   nationalistesfr           0 2018-05-30 06:46:46+00:00"
      ]
     },
     "execution_count": 39,
     "metadata": {},
     "output_type": "execute_result"
    }
   ],
   "source": [
    "df_netinf = (\n",
    "    df_netinf\n",
    "    .groupby(['node_name', 'cascade_id'], as_index=False)\n",
    "    ['earliest_date']\n",
    "    .min()\n",
    "    .sort_values(['cascade_id', 'earliest_date'])\n",
    "    .reset_index(drop=True)\n",
    ")\n",
    "df_netinf.head()"
   ]
  },
  {
   "cell_type": "code",
   "execution_count": 40,
   "id": "c7c45ec3-a0c1-4d5e-9b6c-1b89a81f7aa8",
   "metadata": {},
   "outputs": [
    {
     "data": {
      "text/plain": [
       "(2975, 3)"
      ]
     },
     "execution_count": 40,
     "metadata": {},
     "output_type": "execute_result"
    }
   ],
   "source": [
    "df_netinf.shape"
   ]
  },
  {
   "cell_type": "code",
   "execution_count": 41,
   "id": "db5eb739-32f9-4d52-b508-ab18f3c00379",
   "metadata": {},
   "outputs": [],
   "source": [
    "df_netinf.to_csv(\"../data/netinf_data.csv\", index=False)"
   ]
  }
 ],
 "metadata": {
  "kernelspec": {
   "display_name": "Python 3 (ipykernel)",
   "language": "python",
   "name": "python3"
  },
  "language_info": {
   "codemirror_mode": {
    "name": "ipython",
    "version": 3
   },
   "file_extension": ".py",
   "mimetype": "text/x-python",
   "name": "python",
   "nbconvert_exporter": "python",
   "pygments_lexer": "ipython3",
   "version": "3.10.12"
  }
 },
 "nbformat": 4,
 "nbformat_minor": 5
}
