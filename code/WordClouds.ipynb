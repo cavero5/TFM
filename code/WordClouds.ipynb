{
 "cells": [
  {
   "cell_type": "markdown",
   "id": "3b0e02f0-120a-4689-9f08-9ec46b2eb708",
   "metadata": {},
   "source": [
    "# Nubes de palabras"
   ]
  },
  {
   "cell_type": "markdown",
   "id": "fb75a2a8-68c1-445f-9e5f-ab1b9921bec0",
   "metadata": {},
   "source": [
    "## Carga de librerías necesarias"
   ]
  },
  {
   "cell_type": "code",
   "execution_count": 1,
   "id": "5070f78b-0a03-4880-8924-34512c53bb36",
   "metadata": {},
   "outputs": [],
   "source": [
    "import os\n",
    "import pandas as pd\n",
    "import matplotlib.pyplot as plt\n",
    "\n",
    "from wordcloud import WordCloud\n",
    "from collections import Counter\n",
    "from ast import literal_eval"
   ]
  },
  {
   "cell_type": "markdown",
   "id": "f2b71d39-af9c-4ba9-afc5-dada264c985a",
   "metadata": {
    "jp-MarkdownHeadingCollapsed": true
   },
   "source": [
    "## Funciones"
   ]
  },
  {
   "cell_type": "code",
   "execution_count": 2,
   "id": "f8b86d01-f6cd-4fcd-8cc3-a7b21d0ab3dd",
   "metadata": {},
   "outputs": [],
   "source": [
    "def save_cluster_wordclouds(df, output_dir,\n",
    "                            width=800, height=400,\n",
    "                            background_color='white',\n",
    "                            colormap='viridis',\n",
    "                            max_words=None):\n",
    "    \"\"\"\n",
    "    Genera y guarda una word‑cloud por cada cluster del DataFrame,\n",
    "    acumulando la frecuencia de cada palabra única.\n",
    "\n",
    "    Parámetros\n",
    "    ----------\n",
    "    df : pandas.DataFrame\n",
    "        Debe tener las columnas ['cluster', 'cluster_words_list']\n",
    "        donde 'cluster_words_list' es una lista de strings.\n",
    "    output_dir : str\n",
    "        Carpeta donde se guardarán las imágenes. Se crea si no existe.\n",
    "    width, height : int\n",
    "        Tamaño de la imagen en píxels.\n",
    "    background_color : str\n",
    "        Color de fondo.\n",
    "    colormap : str\n",
    "        Colormap de Matplotlib.\n",
    "    max_words : int | None\n",
    "        Número máximo de palabras a mostrar (None = todas).\n",
    "    \"\"\"\n",
    "    os.makedirs(output_dir, exist_ok=True)\n",
    "\n",
    "    for cluster in df['cluster'].unique():\n",
    "        # 1) Reunir todas las palabras\n",
    "        lists = df.loc[df['cluster'] == cluster, 'cluster_words_list']\n",
    "        \n",
    "        # Contar cada aparición, incluso duplicados en la misma lista:\n",
    "        all_words = [w for lst in lists for w in lst]\n",
    "        \n",
    "        # 2) Acumular frecuencias\n",
    "        freqs = Counter(all_words)\n",
    "\n",
    "        # 3) Generar la nube a partir de esas frecuencias\n",
    "        wc = WordCloud(\n",
    "            width=width,\n",
    "            height=height,\n",
    "            background_color=background_color,\n",
    "            max_words=max_words or len(freqs),\n",
    "            colormap=colormap\n",
    "        ).generate_from_frequencies(freqs)\n",
    "\n",
    "        # 4) Dibujar y guardar\n",
    "        plt.figure(figsize=(width/100, height/100))\n",
    "        plt.imshow(wc, interpolation='bilinear')\n",
    "        plt.axis('off')\n",
    "        fname = os.path.join(output_dir, f'cluster_{cluster}.png')\n",
    "        plt.savefig(fname, bbox_inches='tight')\n",
    "        plt.close()\n",
    "\n",
    "    n = len(df['cluster'].unique())\n",
    "    print(f\"Guardadas {n} word‑clouds en '{output_dir}'\")"
   ]
  },
  {
   "cell_type": "markdown",
   "id": "3ada00c6-9165-4259-9936-e79b4ec8bf62",
   "metadata": {},
   "source": [
    "## Carga de datos"
   ]
  },
  {
   "cell_type": "code",
   "execution_count": 3,
   "id": "68fcf7ae-ab8c-49cd-89b7-6a561754c7d8",
   "metadata": {},
   "outputs": [
    {
     "data": {
      "text/html": [
       "<div>\n",
       "<style scoped>\n",
       "    .dataframe tbody tr th:only-of-type {\n",
       "        vertical-align: middle;\n",
       "    }\n",
       "\n",
       "    .dataframe tbody tr th {\n",
       "        vertical-align: top;\n",
       "    }\n",
       "\n",
       "    .dataframe thead th {\n",
       "        text-align: right;\n",
       "    }\n",
       "</style>\n",
       "<table border=\"1\" class=\"dataframe\">\n",
       "  <thead>\n",
       "    <tr style=\"text-align: right;\">\n",
       "      <th></th>\n",
       "      <th>tid</th>\n",
       "      <th>n_messages</th>\n",
       "      <th>description</th>\n",
       "      <th>keywords</th>\n",
       "      <th>representative_docs</th>\n",
       "      <th>theme</th>\n",
       "      <th>rep_docs_norm</th>\n",
       "      <th>representative_docs_str</th>\n",
       "      <th>macrot_id</th>\n",
       "      <th>cluster</th>\n",
       "      <th>cluster_words</th>\n",
       "      <th>cluster_words_list</th>\n",
       "    </tr>\n",
       "  </thead>\n",
       "  <tbody>\n",
       "    <tr>\n",
       "      <th>0</th>\n",
       "      <td>0</td>\n",
       "      <td>111</td>\n",
       "      <td>0_vacunamos_novavax_fauci_reacciones</td>\n",
       "      <td>['vacunamos', 'novavax', 'fauci', 'reacciones'...</td>\n",
       "      <td>['estracto de la agencia europea del medicamen...</td>\n",
       "      <td>Conspiracy theories and misinformation about C...</td>\n",
       "      <td>['estracto de la agencia europea del medicamen...</td>\n",
       "      <td>estracto de la agencia europea del medicamento...</td>\n",
       "      <td>111</td>\n",
       "      <td>0</td>\n",
       "      <td>deaths | incl | desconocido | casos | disorders</td>\n",
       "      <td>['deaths', 'incl', 'desconocido', 'casos', 'di...</td>\n",
       "    </tr>\n",
       "    <tr>\n",
       "      <th>1</th>\n",
       "      <td>1</td>\n",
       "      <td>106</td>\n",
       "      <td>1_encontrado_oficialialistas_mujer_desconectado</td>\n",
       "      <td>['encontrado', 'oficialialistas', 'mujer', 'de...</td>\n",
       "      <td>['los viajes espaciales, la creacion de una pa...</td>\n",
       "      <td>The theme revolves around conspiracy theories ...</td>\n",
       "      <td>['los viajes espaciales la creacion de una pan...</td>\n",
       "      <td>los viajes espaciales la creacion de una pande...</td>\n",
       "      <td>-1</td>\n",
       "      <td>-1</td>\n",
       "      <td>NaN</td>\n",
       "      <td>[]</td>\n",
       "    </tr>\n",
       "    <tr>\n",
       "      <th>2</th>\n",
       "      <td>2</td>\n",
       "      <td>85</td>\n",
       "      <td>2_expreso0demedianoche_directo_anonimo_descarg...</td>\n",
       "      <td>['expreso0demedianoche', 'directo', 'anonimo',...</td>\n",
       "      <td>['el expreso de media noche directo del 24/02 ...</td>\n",
       "      <td>Unauthorized use of a popular podcast's name a...</td>\n",
       "      <td>['el expreso de media noche directo del 24 02 ...</td>\n",
       "      <td>el expreso de media noche directo del 24 02 21...</td>\n",
       "      <td>-1</td>\n",
       "      <td>-1</td>\n",
       "      <td>NaN</td>\n",
       "      <td>[]</td>\n",
       "    </tr>\n",
       "    <tr>\n",
       "      <th>3</th>\n",
       "      <td>3</td>\n",
       "      <td>65</td>\n",
       "      <td>3_despiertos_actuamos_inocencia_hijos</td>\n",
       "      <td>['despiertos', 'actuamos', 'inocencia', 'hijos...</td>\n",
       "      <td>['da mucho asco ver ciertos personajes que van...</td>\n",
       "      <td>Critique of egoism, superficiality, and lack o...</td>\n",
       "      <td>['da mucho asco ver ciertos personajes que van...</td>\n",
       "      <td>da mucho asco ver ciertos personajes que van d...</td>\n",
       "      <td>80</td>\n",
       "      <td>0</td>\n",
       "      <td>doktor | esra | medical | gmc | dr</td>\n",
       "      <td>['doktor', 'esra', 'medical', 'gmc', 'dr']</td>\n",
       "    </tr>\n",
       "    <tr>\n",
       "      <th>4</th>\n",
       "      <td>4</td>\n",
       "      <td>63</td>\n",
       "      <td>4_protestas_republica_belga_cerrados</td>\n",
       "      <td>['protestas', 'republica', 'belga', 'cerrados'...</td>\n",
       "      <td>['la gente se defiende: suiza fuerza un refere...</td>\n",
       "      <td>Public discontent and resistance against gover...</td>\n",
       "      <td>['la gente se defiende suiza fuerza un referen...</td>\n",
       "      <td>la gente se defiende suiza fuerza un referendu...</td>\n",
       "      <td>64</td>\n",
       "      <td>8</td>\n",
       "      <td>francia | france | macron | sam | french</td>\n",
       "      <td>['francia', 'france', 'macron', 'sam', 'french']</td>\n",
       "    </tr>\n",
       "  </tbody>\n",
       "</table>\n",
       "</div>"
      ],
      "text/plain": [
       "   tid  n_messages                                        description  \\\n",
       "0    0         111               0_vacunamos_novavax_fauci_reacciones   \n",
       "1    1         106    1_encontrado_oficialialistas_mujer_desconectado   \n",
       "2    2          85  2_expreso0demedianoche_directo_anonimo_descarg...   \n",
       "3    3          65              3_despiertos_actuamos_inocencia_hijos   \n",
       "4    4          63               4_protestas_republica_belga_cerrados   \n",
       "\n",
       "                                            keywords  \\\n",
       "0  ['vacunamos', 'novavax', 'fauci', 'reacciones'...   \n",
       "1  ['encontrado', 'oficialialistas', 'mujer', 'de...   \n",
       "2  ['expreso0demedianoche', 'directo', 'anonimo',...   \n",
       "3  ['despiertos', 'actuamos', 'inocencia', 'hijos...   \n",
       "4  ['protestas', 'republica', 'belga', 'cerrados'...   \n",
       "\n",
       "                                 representative_docs  \\\n",
       "0  ['estracto de la agencia europea del medicamen...   \n",
       "1  ['los viajes espaciales, la creacion de una pa...   \n",
       "2  ['el expreso de media noche directo del 24/02 ...   \n",
       "3  ['da mucho asco ver ciertos personajes que van...   \n",
       "4  ['la gente se defiende: suiza fuerza un refere...   \n",
       "\n",
       "                                               theme  \\\n",
       "0  Conspiracy theories and misinformation about C...   \n",
       "1  The theme revolves around conspiracy theories ...   \n",
       "2  Unauthorized use of a popular podcast's name a...   \n",
       "3  Critique of egoism, superficiality, and lack o...   \n",
       "4  Public discontent and resistance against gover...   \n",
       "\n",
       "                                       rep_docs_norm  \\\n",
       "0  ['estracto de la agencia europea del medicamen...   \n",
       "1  ['los viajes espaciales la creacion de una pan...   \n",
       "2  ['el expreso de media noche directo del 24 02 ...   \n",
       "3  ['da mucho asco ver ciertos personajes que van...   \n",
       "4  ['la gente se defiende suiza fuerza un referen...   \n",
       "\n",
       "                             representative_docs_str  macrot_id  cluster  \\\n",
       "0  estracto de la agencia europea del medicamento...        111        0   \n",
       "1  los viajes espaciales la creacion de una pande...         -1       -1   \n",
       "2  el expreso de media noche directo del 24 02 21...         -1       -1   \n",
       "3  da mucho asco ver ciertos personajes que van d...         80        0   \n",
       "4  la gente se defiende suiza fuerza un referendu...         64        8   \n",
       "\n",
       "                                     cluster_words  \\\n",
       "0  deaths | incl | desconocido | casos | disorders   \n",
       "1                                              NaN   \n",
       "2                                              NaN   \n",
       "3               doktor | esra | medical | gmc | dr   \n",
       "4         francia | france | macron | sam | french   \n",
       "\n",
       "                                  cluster_words_list  \n",
       "0  ['deaths', 'incl', 'desconocido', 'casos', 'di...  \n",
       "1                                                 []  \n",
       "2                                                 []  \n",
       "3         ['doktor', 'esra', 'medical', 'gmc', 'dr']  \n",
       "4   ['francia', 'france', 'macron', 'sam', 'french']  "
      ]
     },
     "execution_count": 3,
     "metadata": {},
     "output_type": "execute_result"
    }
   ],
   "source": [
    "df_macrot = pd.read_csv(\"../data/macro_topics.csv\")\n",
    "df_macrot.head().iloc[:, 1:]"
   ]
  },
  {
   "cell_type": "code",
   "execution_count": 4,
   "id": "c2982d37-1429-44a1-8a06-3feda2054671",
   "metadata": {},
   "outputs": [
    {
     "data": {
      "text/plain": [
       "(21614, 13)"
      ]
     },
     "execution_count": 4,
     "metadata": {},
     "output_type": "execute_result"
    }
   ],
   "source": [
    "df_macrot.shape"
   ]
  },
  {
   "cell_type": "markdown",
   "id": "32afc1bc-a91e-4adc-b8b4-f2b4d14601fc",
   "metadata": {},
   "source": [
    "Se descarta el ruido."
   ]
  },
  {
   "cell_type": "code",
   "execution_count": 5,
   "id": "5dc53074-0126-486f-8b74-278564ebd312",
   "metadata": {},
   "outputs": [
    {
     "data": {
      "text/plain": [
       "(9542, 13)"
      ]
     },
     "execution_count": 5,
     "metadata": {},
     "output_type": "execute_result"
    }
   ],
   "source": [
    "df_macrot = df_macrot[df_macrot[\"cluster\"] != -1]\n",
    "df_macrot.shape"
   ]
  },
  {
   "cell_type": "code",
   "execution_count": 6,
   "id": "b3d0916f-065e-4a00-b8c6-b9888d5275c5",
   "metadata": {},
   "outputs": [],
   "source": [
    "df_macrot[\"cluster_words_list\"] = df_macrot[\"cluster_words_list\"].apply(literal_eval)"
   ]
  },
  {
   "cell_type": "markdown",
   "id": "fee18d09-9c76-4d6e-bdde-624f3052f373",
   "metadata": {},
   "source": [
    "## Generación de nubes de palabras"
   ]
  },
  {
   "cell_type": "code",
   "execution_count": 7,
   "id": "c60ba9ec-0be9-4262-a1c9-95d93de1daa1",
   "metadata": {},
   "outputs": [
    {
     "name": "stdout",
     "output_type": "stream",
     "text": [
      "Guardadas 22 word‑clouds en '../outputs/nubes'\n"
     ]
    }
   ],
   "source": [
    "save_cluster_wordclouds(df_macrot, \"../outputs/nubes\")"
   ]
  }
 ],
 "metadata": {
  "kernelspec": {
   "display_name": "Python 3 (ipykernel)",
   "language": "python",
   "name": "python3"
  },
  "language_info": {
   "codemirror_mode": {
    "name": "ipython",
    "version": 3
   },
   "file_extension": ".py",
   "mimetype": "text/x-python",
   "name": "python",
   "nbconvert_exporter": "python",
   "pygments_lexer": "ipython3",
   "version": "3.10.12"
  }
 },
 "nbformat": 4,
 "nbformat_minor": 5
}
